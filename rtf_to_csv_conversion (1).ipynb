{
  "nbformat": 4,
  "nbformat_minor": 0,
  "metadata": {
    "colab": {
      "name": "rtf to csv conversion.ipynb",
      "provenance": []
    },
    "kernelspec": {
      "name": "python3",
      "display_name": "Python 3"
    },
    "language_info": {
      "name": "python"
    }
  },
  "cells": [
    {
      "cell_type": "code",
      "metadata": {
        "id": "V3UX11HOCQAm"
      },
      "source": [
        "import pandas as pd\n",
        "import csv"
      ],
      "execution_count": null,
      "outputs": []
    },
    {
      "cell_type": "code",
      "metadata": {
        "id": "6XnBNk2RCW1n"
      },
      "source": [
        "count=0\n",
        "f = open(\"/content/Data_GRENER.rtf\", \"r\")\n",
        "nf = open('Data_GRENER.csv', 'w')\n",
        "for x in f:\n",
        "    count=count+1  \n",
        "    if count<10:\n",
        "        continue\n",
        "    else:\n",
        "        x=x.replace(',','.')\n",
        "        x=x.replace(';',',')\n",
        "        x=x.replace('\"','')\n",
        "        x=x.replace(\"\\\\\",\"\")\n",
        "        x=x[:len(x)-1]\n",
        "        nf.write(x)  \n",
        "        nf.write('\\n')\n",
        "\n",
        "nf.close() \n",
        "f.close()\n",
        "\n",
        "\n",
        "\n"
      ],
      "execution_count": null,
      "outputs": []
    }
  ]
}